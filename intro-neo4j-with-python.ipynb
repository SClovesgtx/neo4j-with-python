{
 "cells": [
  {
   "cell_type": "code",
   "execution_count": 1,
   "metadata": {},
   "outputs": [],
   "source": [
    "from py2neo import Graph\n",
    "from py2neo import Node, Relationship\n",
    "import os"
   ]
  },
  {
   "cell_type": "markdown",
   "metadata": {},
   "source": [
    "A primeira vez que se acessa o neo4j, ele pede para redefinar a senha padrão.\n",
    "\n",
    "Veja mais sobre isso [aqui](https://neo4j.com/docs/operations-manual/current/configuration/set-initial-password/)"
   ]
  },
  {
   "cell_type": "code",
   "execution_count": 2,
   "metadata": {},
   "outputs": [],
   "source": [
    "NEO4J_PASSWORD = os.getenv('NEO4J_PASSWORD')"
   ]
  },
  {
   "cell_type": "code",
   "execution_count": 3,
   "metadata": {},
   "outputs": [],
   "source": [
    "graph = Graph(\"bolt://localhost:7687/db/data/\", user=\"neo4j\", password=NEO4J_PASSWORD)"
   ]
  },
  {
   "cell_type": "code",
   "execution_count": 9,
   "metadata": {},
   "outputs": [],
   "source": [
    "alice = Node('Person', name='Alice', born='1999')"
   ]
  },
  {
   "cell_type": "code",
   "execution_count": 10,
   "metadata": {},
   "outputs": [],
   "source": [
    "graph.create(alice)"
   ]
  },
  {
   "cell_type": "code",
   "execution_count": 13,
   "metadata": {},
   "outputs": [],
   "source": [
    "alex = Node('Person', name='Alex', born='1991')\n",
    "graph.create(alex)"
   ]
  },
  {
   "cell_type": "code",
   "execution_count": 14,
   "metadata": {},
   "outputs": [],
   "source": [
    "graph.create(Relationship(alex, 'LOVE', alice, weight=1000))"
   ]
  },
  {
   "cell_type": "code",
   "execution_count": 4,
   "metadata": {},
   "outputs": [
    {
     "data": {
      "text/html": [
       "<table><tr><th>p.name</th><th>p.born</th></tr><tr><td style=\"text-align:left\">Charlize Theron</td><td style=\"text-align:right\">1975</td></tr><tr><td style=\"text-align:left\">Al Pacino</td><td style=\"text-align:right\">1940</td></tr><tr><td style=\"text-align:left\">Taylor Hackford</td><td style=\"text-align:right\">1944</td></tr><tr><td style=\"text-align:left\">Tom Cruise</td><td style=\"text-align:right\">1962</td></tr><tr><td style=\"text-align:left\">Jack Nicholson</td><td style=\"text-align:right\">1937</td></tr></table>"
      ],
      "text/plain": [
       " p.name          | p.born \n",
       "-----------------|--------\n",
       " Charlize Theron |   1975 \n",
       " Al Pacino       |   1940 \n",
       " Taylor Hackford |   1944 \n",
       " Tom Cruise      |   1962 \n",
       " Jack Nicholson  |   1937 "
      ]
     },
     "execution_count": 4,
     "metadata": {},
     "output_type": "execute_result"
    }
   ],
   "source": [
    "graph.run(\"MATCH (p:Person) RETURN p.name, p.born LIMIT 5\").to_table()"
   ]
  },
  {
   "cell_type": "markdown",
   "metadata": {},
   "source": [
    "Para usar o recurso de magic expression do cypher, instale o [ipython-cypher](https://github.com/versae/ipython-cypher).\n",
    "\n",
    "Para saber mais sobre como usar %cypher, leia [isso](https://ipython-cypher.readthedocs.io/en/latest/#requirements)."
   ]
  }
 ],
 "metadata": {
  "kernelspec": {
   "display_name": "Python 3",
   "language": "python",
   "name": "python3"
  },
  "language_info": {
   "codemirror_mode": {
    "name": "ipython",
    "version": 3
   },
   "file_extension": ".py",
   "mimetype": "text/x-python",
   "name": "python",
   "nbconvert_exporter": "python",
   "pygments_lexer": "ipython3",
   "version": "3.6.7"
  }
 },
 "nbformat": 4,
 "nbformat_minor": 2
}
